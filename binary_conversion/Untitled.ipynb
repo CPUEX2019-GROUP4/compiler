{
 "cells": [
  {
   "cell_type": "code",
   "execution_count": 129,
   "metadata": {},
   "outputs": [],
   "source": [
    "import struct"
   ]
  },
  {
   "cell_type": "code",
   "execution_count": 130,
   "metadata": {},
   "outputs": [],
   "source": [
    "wf = open('write_test.bin', 'wb')"
   ]
  },
  {
   "cell_type": "code",
   "execution_count": 131,
   "metadata": {},
   "outputs": [],
   "source": [
    "def line_out(line):\n",
    "    l = line.split()\n",
    "    s = []\n",
    "    b = \"\"\n",
    "    for a in l:\n",
    "        if (a.isdigit()):\n",
    "            b = print_int(int(a))\n",
    "        else:\n",
    "            b = print_float(float(a))\n",
    "            s.append(float(a))\n",
    "        s.append(b)\n",
    "        wf.write(b)\n",
    "    return s\n",
    "            "
   ]
  },
  {
   "cell_type": "code",
   "execution_count": 132,
   "metadata": {},
   "outputs": [],
   "source": [
    "def print_int(x):\n",
    "    bytes_little = x.to_bytes(4, byteorder='little')\n",
    "    return bytes_little\n",
    "def print_float(x):\n",
    "    b = struct.pack('<f', x)\n",
    "    return b"
   ]
  },
  {
   "cell_type": "code",
   "execution_count": 133,
   "metadata": {},
   "outputs": [],
   "source": [
    "filename = 'test.txt'\n",
    "\n",
    "with open(filename,'r') as fi:\n",
    "    while True:\n",
    "        line = fi.readline()\n",
    "        if not line:\n",
    "            break\n",
    "        else:\n",
    "            line_out(line)"
   ]
  },
  {
   "cell_type": "code",
   "execution_count": null,
   "metadata": {},
   "outputs": [],
   "source": []
  }
 ],
 "metadata": {
  "kernelspec": {
   "display_name": "Python 3",
   "language": "python",
   "name": "python3"
  },
  "language_info": {
   "codemirror_mode": {
    "name": "ipython",
    "version": 3
   },
   "file_extension": ".py",
   "mimetype": "text/x-python",
   "name": "python",
   "nbconvert_exporter": "python",
   "pygments_lexer": "ipython3",
   "version": "3.6.5"
  }
 },
 "nbformat": 4,
 "nbformat_minor": 2
}
